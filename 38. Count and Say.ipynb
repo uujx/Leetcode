{
 "cells": [
  {
   "cell_type": "code",
   "execution_count": 2,
   "metadata": {},
   "outputs": [
    {
     "ename": "NameError",
     "evalue": "name 'Count' is not defined",
     "output_type": "error",
     "traceback": [
      "\u001b[1;31m---------------------------------------------------------------------------\u001b[0m",
      "\u001b[1;31mNameError\u001b[0m                                 Traceback (most recent call last)",
      "\u001b[1;32m<ipython-input-2-67fff8641254>\u001b[0m in \u001b[0;36m<module>\u001b[1;34m()\u001b[0m\n\u001b[1;32m----> 1\u001b[1;33m \u001b[0mCount\u001b[0m \u001b[1;32mand\u001b[0m \u001b[0mSay\u001b[0m\u001b[1;33m\u001b[0m\u001b[0m\n\u001b[0m",
      "\u001b[1;31mNameError\u001b[0m: name 'Count' is not defined"
     ]
    }
   ],
   "source": [
    "Count and Say"
   ]
  },
  {
   "cell_type": "code",
   "execution_count": 16,
   "metadata": {},
   "outputs": [
    {
     "name": "stdout",
     "output_type": "stream",
     "text": [
      "13112221\n"
     ]
    }
   ],
   "source": [
    "n = 7\n",
    "\n",
    "seq = \"1\"\n",
    "if n == 1:\n",
    "    print(seq)\n",
    "\n",
    "# 2: 11\n",
    "while n > 1:\n",
    "    newSeq = \"\"\n",
    "    prev = seq[0]\n",
    "    count = 0\n",
    "    for cur in seq:\n",
    "        if cur == prev:\n",
    "            count += 1\n",
    "        else:\n",
    "            newSeq += str(count) + prev\n",
    "            prev = cur\n",
    "            count = 1\n",
    "    \n",
    "    newSeq += str(count) + prev\n",
    "    seq = newSeq\n",
    "    n -= 1\n",
    "\n",
    "print(seq)\n",
    "        "
   ]
  },
  {
   "cell_type": "code",
   "execution_count": 10,
   "metadata": {},
   "outputs": [
    {
     "name": "stdout",
     "output_type": "stream",
     "text": [
      "a\n"
     ]
    }
   ],
   "source": [
    "string = \"a\"\n",
    "for cur in string:\n",
    "    print(cur)\n",
    "    "
   ]
  }
 ],
 "metadata": {
  "kernelspec": {
   "display_name": "Python 3",
   "language": "python",
   "name": "python3"
  },
  "language_info": {
   "codemirror_mode": {
    "name": "ipython",
    "version": 3
   },
   "file_extension": ".py",
   "mimetype": "text/x-python",
   "name": "python",
   "nbconvert_exporter": "python",
   "pygments_lexer": "ipython3",
   "version": "3.6.3"
  }
 },
 "nbformat": 4,
 "nbformat_minor": 2
}
